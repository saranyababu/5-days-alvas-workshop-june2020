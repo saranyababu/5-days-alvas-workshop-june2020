{
  "nbformat": 4,
  "nbformat_minor": 0,
  "metadata": {
    "colab": {
      "name": "Day1Session1.ipynb",
      "provenance": [],
      "authorship_tag": "ABX9TyMk1Trzfr2KdOZ4G5sQuCVi",
      "include_colab_link": true
    },
    "kernelspec": {
      "name": "python3",
      "display_name": "Python 3"
    }
  },
  "cells": [
    {
      "cell_type": "markdown",
      "metadata": {
        "id": "view-in-github",
        "colab_type": "text"
      },
      "source": [
        "<a href=\"https://colab.research.google.com/github/saranyababu/5-days-alvas-workshop-june2020/blob/master/Day1Session1.ipynb\" target=\"_parent\"><img src=\"https://colab.research.google.com/assets/colab-badge.svg\" alt=\"Open In Colab\"/></a>"
      ]
    },
    {
      "cell_type": "code",
      "metadata": {
        "id": "rcgacoesVP91",
        "colab_type": "code",
        "colab": {
          "base_uri": "https://localhost:8080/",
          "height": 68
        },
        "outputId": "dfef9712-7ba8-4fca-844a-50cfc01d70f0"
      },
      "source": [
        "# sum of two nos\n",
        "num1 = int(input(\"Enter first no\"))\n",
        "num2 = int(input(\"Enter second no\"))\n",
        "\n",
        "# Adding the two numbers\n",
        "sum = num1 + num2\n",
        "\n",
        "# Display the sum\n",
        "print('The sum of {0} and {1} is {2}'.format(num1, num2, sum))\n"
      ],
      "execution_count": null,
      "outputs": [
        {
          "output_type": "stream",
          "text": [
            "Enter first no3\n",
            "Enter second no5\n",
            "The sum of 3 and 5 is 8\n"
          ],
          "name": "stdout"
        }
      ]
    },
    {
      "cell_type": "code",
      "metadata": {
        "id": "ECIjFuMYVnc_",
        "colab_type": "code",
        "colab": {
          "base_uri": "https://localhost:8080/",
          "height": 34
        },
        "outputId": "8975107a-5e5e-4dd7-e48c-f912bf30a564"
      },
      "source": [
        "import random\n",
        "print(random.randint(0,9))\n"
      ],
      "execution_count": null,
      "outputs": [
        {
          "output_type": "stream",
          "text": [
            "0\n"
          ],
          "name": "stdout"
        }
      ]
    },
    {
      "cell_type": "code",
      "metadata": {
        "id": "kEml-X5TVv0R",
        "colab_type": "code",
        "colab": {
          "base_uri": "https://localhost:8080/",
          "height": 85
        },
        "outputId": "b51d6073-7620-4b83-ade5-31817bc251d1"
      },
      "source": [
        "import cmath\n",
        "\n",
        "# To take coefficient input from the users\n",
        "a = float(input('Enter a: '))\n",
        "b = float(input('Enter b: '))\n",
        "c = float(input('Enter c: '))\n",
        "\n",
        "# calculate the discriminant\n",
        "d = (b**2) - (4*a*c)\n",
        "\n",
        "# find two solutions\n",
        "sol1 = (-b-cmath.sqrt(d))/(2*a)\n",
        "sol2 = (-b+cmath.sqrt(d))/(2*a)\n",
        "\n",
        "print('The solution are {0} and {1}'.format(sol1,sol2))\n"
      ],
      "execution_count": null,
      "outputs": [
        {
          "output_type": "stream",
          "text": [
            "Enter a: 1\n",
            "Enter b: 0\n",
            "Enter c: 1\n",
            "The solution are (-0-1j) and 1j\n"
          ],
          "name": "stdout"
        }
      ]
    },
    {
      "cell_type": "code",
      "metadata": {
        "id": "SvjH4jYBWZuM",
        "colab_type": "code",
        "colab": {
          "base_uri": "https://localhost:8080/",
          "height": 129
        },
        "outputId": "6d8d4f89-5cd7-49cf-9fd6-efec51697a66"
      },
      "source": [
        "loop = 1 # 1 means loop; anything else means don't loop.\n",
        "choice = 0 # This variable holds the user's choice in the menu\n",
        "\n",
        "def add(a,b):\n",
        "return   a+b \n",
        "def sub(a,b):\n",
        "return a-b\n",
        "def mul(a,b):\n",
        "return a*b\n",
        "def div(a,b):\n",
        "return a/b\n",
        "\n",
        "while loop == 1:\n",
        "# Print what options you have\n",
        "print (\"Welcome to calculator.py\")\n",
        "print (\"your options are:\")\n",
        "print (\"\")\n",
        "print(\"1) Addition\")\n",
        "print(\"2) Subtraction\")\n",
        "print(\"3) Multiplication\")\n",
        "print(\"4) Division\")\n",
        "print(\"5) Quit calculator.py\")\n",
        "print(\"\")\n",
        "try:\n",
        "choice = int(input(\"Choose your option: \"))\n",
        "except:\n",
        "print('please enter a valid number for option')\n",
        "print(\"\")\n",
        "print(\"\")\n",
        "if choice == 1:\n",
        "x = int(input(“Enter 1st no: \"))\n",
        "y = int(input(\"Enter 2nd no: \"))\n",
        "print(\"The answer is \",add(x,y))\n",
        "\n",
        "elif choice == 2:\n",
        "x = int(input(\"Enter 1st no: \"))\n",
        "y = int(input(\"Enter 2nd no: \"))\n",
        "print(\"answer is \",sub(x,y))\n",
        "\n",
        "elif choice == 3:\n",
        "x = int(input(\"Enter 1st no: \"))\n",
        "y = int(input(\"Enter 2nd no: \"))\n",
        "print(\"answer is \",mul(x,y))\n",
        "\n",
        "elif choice == 4:\n",
        "x = int(input(\"Enter 1st no: \"))\n",
        "y = int(input(\"Enter 2nd no: \"))\n",
        "print(\"answer is \",div(x,y))\n",
        "\n",
        "elif choice == 5:\n",
        "loop = 0\n",
        "\n",
        "else:\n",
        "print(\"please choice a valid option from 1 to 5\")\n",
        "choice=0\n",
        "print (\"Thank-you for using calculator.py!\")\n"
      ],
      "execution_count": null,
      "outputs": [
        {
          "output_type": "error",
          "ename": "IndentationError",
          "evalue": "ignored",
          "traceback": [
            "\u001b[0;36m  File \u001b[0;32m\"<ipython-input-7-cd8361aafb1d>\"\u001b[0;36m, line \u001b[0;32m5\u001b[0m\n\u001b[0;31m    return   a+b\u001b[0m\n\u001b[0m         ^\u001b[0m\n\u001b[0;31mIndentationError\u001b[0m\u001b[0;31m:\u001b[0m expected an indented block\n"
          ]
        }
      ]
    }
  ]
}