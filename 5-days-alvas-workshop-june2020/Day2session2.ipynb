{
  "nbformat": 4,
  "nbformat_minor": 0,
  "metadata": {
    "colab": {
      "name": "Day2session2.ipynb",
      "provenance": [],
      "collapsed_sections": [],
      "authorship_tag": "ABX9TyPIetB52zX5gf0MvDrCFvyF",
      "include_colab_link": true
    },
    "kernelspec": {
      "name": "python3",
      "display_name": "Python 3"
    }
  },
  "cells": [
    {
      "cell_type": "markdown",
      "metadata": {
        "id": "view-in-github",
        "colab_type": "text"
      },
      "source": [
        "<a href=\"https://colab.research.google.com/github/saranyababu/5-days-alvas-workshop-june2020/blob/master/5-days-alvas-workshop-june2020/Day2session2.ipynb\" target=\"_parent\"><img src=\"https://colab.research.google.com/assets/colab-badge.svg\" alt=\"Open In Colab\"/></a>"
      ]
    },
    {
      "cell_type": "code",
      "metadata": {
        "id": "0m1WMAIpKXQE",
        "colab_type": "code",
        "colab": {
          "base_uri": "https://localhost:8080/",
          "height": 51
        },
        "outputId": "52716c0c-1bf2-4db8-b265-8d5c04bc057f"
      },
      "source": [
        "#dict.clear()\n",
        "#Removes all elements of dictionary dict\n",
        "\n",
        "dict = {'Name': 'Zara', 'Age': 7};\n",
        "print(\"Start Len : %d\" %  len(dict))\n",
        "dict.clear()\n",
        "print(\"End Len : %d\" %  len(dict))\n",
        "\n"
      ],
      "execution_count": null,
      "outputs": [
        {
          "output_type": "stream",
          "text": [
            "Start Len : 2\n",
            "End Len : 0\n"
          ],
          "name": "stdout"
        }
      ]
    },
    {
      "cell_type": "code",
      "metadata": {
        "id": "XH3w2H_PKmrF",
        "colab_type": "code",
        "colab": {
          "base_uri": "https://localhost:8080/",
          "height": 34
        },
        "outputId": "d1961ea1-79c0-4e1d-f4c6-721c51f515dd"
      },
      "source": [
        "dict = {'Name': 'Zara', 'Age': 7}\n",
        "print (\"Value : %s\" %  dict.items())\n"
      ],
      "execution_count": null,
      "outputs": [
        {
          "output_type": "stream",
          "text": [
            "Value : dict_items([('Name', 'Zara'), ('Age', 7)])\n"
          ],
          "name": "stdout"
        }
      ]
    },
    {
      "cell_type": "code",
      "metadata": {
        "id": "rYQ7JGgPKzCX",
        "colab_type": "code",
        "colab": {
          "base_uri": "https://localhost:8080/",
          "height": 51
        },
        "outputId": "c32f964e-dbd5-430a-9f46-61d884664b9d"
      },
      "source": [
        "n=int(input(\"Enter a number:\"))\n",
        "d={x:x*x for x in range(1,n+1)}\n",
        "print(d)\n"
      ],
      "execution_count": null,
      "outputs": [
        {
          "output_type": "stream",
          "text": [
            "Enter a number:5\n",
            "{1: 1, 2: 4, 3: 9, 4: 16, 5: 25}\n"
          ],
          "name": "stdout"
        }
      ]
    },
    {
      "cell_type": "code",
      "metadata": {
        "id": "RpJmgUaNM8UO",
        "colab_type": "code",
        "colab": {
          "base_uri": "https://localhost:8080/",
          "height": 51
        },
        "outputId": "30bc0274-1783-4522-a0cc-457d3661da34"
      },
      "source": [
        "d={'A':100,'B':540,'C':239}\n",
        "print(\"Total sum of values in the dictionary:\")\n",
        "print(sum(d.values()))\n"
      ],
      "execution_count": null,
      "outputs": [
        {
          "output_type": "stream",
          "text": [
            "Total sum of values in the dictionary:\n",
            "879\n"
          ],
          "name": "stdout"
        }
      ]
    },
    {
      "cell_type": "code",
      "metadata": {
        "id": "Y26F9eaRNCDy",
        "colab_type": "code",
        "colab": {
          "base_uri": "https://localhost:8080/",
          "height": 129
        },
        "outputId": "cef48b77-e8e6-4425-ed34-57dde298a7d3"
      },
      "source": [
        "d = {'a':1,'b':2,'c':3,'d':4}\n",
        "print(\"Initial dictionary\")\n",
        "print(d)\n",
        "key=input(\"Enter the key to delete(a-d):\")\n",
        "if key in d: \n",
        "del d[key]\n",
        "else:\n",
        "print(\"Key not found!\")\n",
        "exit(0)\n",
        "print(\"Updated dictionary\")\n",
        "print(d)\n"
      ],
      "execution_count": null,
      "outputs": [
        {
          "output_type": "error",
          "ename": "IndentationError",
          "evalue": "ignored",
          "traceback": [
            "\u001b[0;36m  File \u001b[0;32m\"<ipython-input-6-1682d912aaf9>\"\u001b[0;36m, line \u001b[0;32m6\u001b[0m\n\u001b[0;31m    del d[key]\u001b[0m\n\u001b[0m      ^\u001b[0m\n\u001b[0;31mIndentationError\u001b[0m\u001b[0;31m:\u001b[0m expected an indented block\n"
          ]
        }
      ]
    },
    {
      "cell_type": "code",
      "metadata": {
        "id": "O5VNXOWvNTlD",
        "colab_type": "code",
        "colab": {
          "base_uri": "https://localhost:8080/",
          "height": 129
        },
        "outputId": "158909c7-ffd4-4dc5-c6aa-3c6b0dc9f19b"
      },
      "source": [
        "d = {'a':1,'b':2,'c':3,'d':4}\n",
        "print(\"Initial dictionary\")\n",
        "print(d)\n",
        "key=input(\"Enter the key to delete(a-d):\")\n",
        "if key in d: \n",
        "del d[key]\n",
        "else:\n",
        "print(\"Key not found!\")\n",
        "exit(0)\n",
        "print(\"Updated dictionary\")\n",
        "print(d)"
      ],
      "execution_count": null,
      "outputs": [
        {
          "output_type": "error",
          "ename": "IndentationError",
          "evalue": "ignored",
          "traceback": [
            "\u001b[0;36m  File \u001b[0;32m\"<ipython-input-8-1682d912aaf9>\"\u001b[0;36m, line \u001b[0;32m6\u001b[0m\n\u001b[0;31m    del d[key]\u001b[0m\n\u001b[0m      ^\u001b[0m\n\u001b[0;31mIndentationError\u001b[0m\u001b[0;31m:\u001b[0m expected an indented block\n"
          ]
        }
      ]
    }
  ]
}